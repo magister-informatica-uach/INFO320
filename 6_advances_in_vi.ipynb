{
 "cells": [
  {
   "cell_type": "code",
   "execution_count": null,
   "metadata": {},
   "outputs": [],
   "source": [
    "%%HTML\n",
    "<!-- Mejorar visualización en proyector -->\n",
    "<style>\n",
    ".rendered_html {font-size: 1.2em; line-height: 150%;}\n",
    "div.prompt {min-width: 0ex; padding: 0px;}\n",
    ".container {width:95% !important;}\n",
    "</style>"
   ]
  },
  {
   "cell_type": "code",
   "execution_count": null,
   "metadata": {},
   "outputs": [],
   "source": [
    "%autosave 0\n",
    "%matplotlib notebook\n",
    "import matplotlib.pyplot as plt\n",
    "import numpy as np\n",
    "import torch\n",
    "from tqdm.notebook import tqdm\n",
    "import pyro"
   ]
  },
  {
   "cell_type": "markdown",
   "metadata": {},
   "source": [
    "SVI, minibatch"
   ]
  },
  {
   "cell_type": "markdown",
   "metadata": {},
   "source": [
    "- Blundell weight uncertainty: https://arxiv.org/pdf/1505.05424.pdf\n",
    "- Graves, practical VI for NN: https://papers.nips.cc/paper/4329-practical-variational-inference-for-neural-networks.pdf\n",
    "- https://csc2541-f17.github.io/slides/lec04.pdf\n",
    "- Thesis Y Gal: http://mlg.eng.cam.ac.uk/yarin/thesis/thesis.pdf"
   ]
  },
  {
   "cell_type": "markdown",
   "metadata": {},
   "source": [
    "- advances in VI: https://arxiv.org/pdf/1711.05597.pdf\n",
    "- Variational dropout and local reparameterization trick: http://papers.nips.cc/paper/5666-variational-dropout-and-the-local-reparameterization-trick, https://alsibahi.xyz/snippets/2019/06/15/pyro_mnist_bnn_kl.html\n",
    "- Uncertainty Estimations by Softplus normalization inBayesian Convolutional Neural Networks withVariational Inference: https://arxiv.org/pdf/1806.05978.pdf\n",
    "- VAE structured residuals: https://arxiv.org/pdf/1804.01050.pdf\n",
    "- Importance sampling: https://arxiv.org/abs/1509.00519\n",
    "- Stein\n",
    "- generative flow: https://d4mucfpksywv.cloudfront.net/research-covers/glow/paper/glow.pdf"
   ]
  },
  {
   "cell_type": "markdown",
   "metadata": {},
   "source": [
    "http://edwardlib.org/tutorials/klqp\n",
    "    \n",
    "    http://artem.sobolev.name/posts/2019-04-26-neural-samplers-and-hierarchical-variational-inference.html\n",
    "    \n",
    "    https://www.cs.tufts.edu/comp/150BDL/2018f/assignments/hw4.html"
   ]
  },
  {
   "cell_type": "markdown",
   "metadata": {},
   "source": [
    "Temas pendientes:\n",
    "VAE condicional\n",
    "VAE semisupervisado\n",
    "Cómo hacer más expresivo el posterior? Variables auxiliares (jerarquías), Inverse autoregresive flow, Stein Gradient descent, Adversarial VAE\n",
    "IWAE: https://arxiv.org/abs/1509.00519, https://openreview.net/forum?id=HyZoi-WRb\n",
    "Cómo hacer más expresivo el prior? Mixture of Gaussians\n",
    "Boosted Variational Mixtures: ftp://ftp.cs.princeton.edu/reports/2017/006.pdf\n",
    "Anchor VAE: https://arxiv.org/pdf/1802.05822.pdf\n",
    "\n",
    "\n",
    "Normalizing flows: https://arxiv.org/pdf/1505.05770.pdf\n",
    "Auxiliary deep generative models: https://arxiv.org/abs/1602.05473\n",
    "Hierarchical features from generative models: https://arxiv.org/abs/1702.08396\n",
    "Adversarial VAE: https://arxiv.org/pdf/1701.04722.pdf\n",
    "Neural discrete representation: https://arxiv.org/pdf/1711.00937.pdf\n",
    "Alternative priors: https://www.ics.uci.edu/~enalisni/nalisnick_openAI_talk.pdf\n",
    "Kalman VAE: https://arxiv.org/pdf/1710.057416.pdf\n",
    "Stick Breaking Autoencoder: https://arxiv.org/pdf/1605.06197.pdf\n",
    "Generative flow: https://d4mucfpksywv.cloudfront.net/research-covers/glow/paper/glow.pdf\n",
    "\n",
    "SS VAE+GRAPH: https://arxiv.org/pdf/1806.02679.pdf"
   ]
  },
  {
   "cell_type": "markdown",
   "metadata": {},
   "source": [
    "- http://akosiorek.github.io/ml/2018/04/03/norm_flows.html\n",
    "- https://www.fast.ai/2018/07/02/adam-weight-decay/\n",
    "-https://nbviewer.jupyter.org/github/bmazoure/code_snippets/blob/master/normalizing_flows/Normalizing%20flows%20in%20Pyro.ipynb\n",
    "\n",
    "Recheck bayesian regression and bayesian neural net pyro"
   ]
  },
  {
   "cell_type": "markdown",
   "metadata": {},
   "source": [
    "- http://pyro.ai/examples/custom_objectives.html"
   ]
  },
  {
   "cell_type": "markdown",
   "metadata": {},
   "source": [
    "BO: http://pyro.ai/examples/bo.html"
   ]
  },
  {
   "cell_type": "markdown",
   "metadata": {},
   "source": [
    "- https://petuum.com/2019/01/15/intro-to-modern-bayesian-learning-and-probabilistic-programming/"
   ]
  },
  {
   "cell_type": "markdown",
   "metadata": {},
   "source": [
    "- https://github.com/pyro-ppl/numpyro/blob/master/examples/bnn.py"
   ]
  },
  {
   "cell_type": "code",
   "execution_count": null,
   "metadata": {},
   "outputs": [],
   "source": []
  }
 ],
 "metadata": {
  "kernelspec": {
   "display_name": "Python 3",
   "language": "python",
   "name": "python3"
  },
  "language_info": {
   "codemirror_mode": {
    "name": "ipython",
    "version": 3
   },
   "file_extension": ".py",
   "mimetype": "text/x-python",
   "name": "python",
   "nbconvert_exporter": "python",
   "pygments_lexer": "ipython3",
   "version": "3.7.6"
  }
 },
 "nbformat": 4,
 "nbformat_minor": 2
}
