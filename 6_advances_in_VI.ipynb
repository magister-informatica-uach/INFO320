{
 "cells": [
  {
   "cell_type": "markdown",
   "metadata": {},
   "source": [
    "http://pyro.ai/examples/ss-vae.html"
   ]
  },
  {
   "cell_type": "markdown",
   "metadata": {},
   "source": [
    "DODEEPGENERATIVEMODELSKNOWWHATTHEYDON’TKNOW? \n",
    "https://arxiv.org/pdf/1810.09136.pdf"
   ]
  },
  {
   "cell_type": "markdown",
   "metadata": {},
   "source": [
    "A Comprehensive guide to Bayesian Convolutional NeuralNetwork with Variational Inference\n",
    "\n",
    "https://arxiv.org/pdf/1901.02731.pdf"
   ]
  },
  {
   "cell_type": "markdown",
   "metadata": {},
   "source": [
    "GECO: https://arxiv.org/pdf/1810.00597.pdf"
   ]
  },
  {
   "cell_type": "markdown",
   "metadata": {},
   "source": [
    "- Blundell weight uncertainty (bayes by backprop): https://arxiv.org/pdf/1505.05424.pdf, https://github.com/ThirstyScholar/bayes-by-backprop, https://gluon.mxnet.io/chapter18_variational-methods-and-uncertainty/bayes-by-backprop.html, http://krasserm.github.io/2019/03/14/bayesian-neural-networks/\n",
    "\n",
    "- Graves, practical VI for NN: https://papers.nips.cc/paper/4329-practical-variational-inference-for-neural-networks.pdf\n",
    "- https://csc2541-f17.github.io/slides/lec04.pdf\n",
    "\n",
    "\n",
    "FLIPOUT: https://arxiv.org/abs/1803.04386"
   ]
  },
  {
   "cell_type": "markdown",
   "metadata": {},
   "source": [
    "- advances in VI: https://arxiv.org/pdf/1711.05597.pdf\n",
    "- Variational dropout and local reparameterization trick: http://papers.nips.cc/paper/5666-variational-dropout-and-the-local-reparameterization-trick, https://alsibahi.xyz/snippets/2019/06/15/pyro_mnist_bnn_kl.html, \n",
    "- Uncertainty Estimations by Softplus normalization inBayesian Convolutional Neural Networks withVariational Inference: https://arxiv.org/pdf/1806.05978.pdf"
   ]
  },
  {
   "cell_type": "markdown",
   "metadata": {},
   "source": [
    "### Normalizing flows and ways to improve the variational approximation\n",
    "\n",
    "https://arxiv.org/abs/1505.05770\n",
    "\n",
    "http://akosiorek.github.io/ml/2018/04/03/norm_flows.html\n",
    "\n",
    "in Pyro:\n",
    "\n",
    "https://bmazoure.github.io/posts/nf-in-pyro/\n",
    "\n",
    "https://nbviewer.jupyter.org/github/bmazoure/code_snippets/blob/master/normalizing_flows/Normalizing%20flows%20in%20Pyro.ipynb\n",
    "\n",
    "Auxiliary variables: https://arxiv.org/abs/1602.05473\n",
    "\n",
    "Hierarchical stochastic variables: https://arxiv.org/abs/1702.08396\n",
    "\n",
    "GLOW: https://d4mucfpksywv.cloudfront.net/research-covers/glow/paper/glow.pdf"
   ]
  },
  {
   "cell_type": "markdown",
   "metadata": {},
   "source": [
    "Importance Weighted AE\n",
    "\n",
    "http://artem.sobolev.name/posts/2019-04-26-neural-samplers-and-hierarchical-variational-inference.html\n",
    "\n",
    "IWAE: https://arxiv.org/abs/1509.00519, https://openreview.net/forum?id=HyZoi-WRb"
   ]
  },
  {
   "cell_type": "markdown",
   "metadata": {},
   "source": [
    "Dropout as a Bayesian Approximation: Representing Model Uncertainty in Deep Learning \n",
    "\n",
    "https://arxiv.org/abs/1506.02142"
   ]
  },
  {
   "cell_type": "markdown",
   "metadata": {},
   "source": [
    "Kalman VAE\n",
    "\n",
    "https://arxiv.org/pdf/1710.057416.pdf"
   ]
  },
  {
   "cell_type": "markdown",
   "metadata": {},
   "source": [
    "Bayesian optimization\n",
    "\n",
    "http://pyro.ai/examples/bo.html"
   ]
  },
  {
   "cell_type": "code",
   "execution_count": null,
   "metadata": {},
   "outputs": [],
   "source": []
  }
 ],
 "metadata": {
  "kernelspec": {
   "display_name": "Python 3",
   "language": "python",
   "name": "python3"
  },
  "language_info": {
   "codemirror_mode": {
    "name": "ipython",
    "version": 3
   },
   "file_extension": ".py",
   "mimetype": "text/x-python",
   "name": "python",
   "nbconvert_exporter": "python",
   "pygments_lexer": "ipython3",
   "version": "3.7.6"
  }
 },
 "nbformat": 4,
 "nbformat_minor": 4
}
