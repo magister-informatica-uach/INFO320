{
 "cells": [
  {
   "cell_type": "code",
   "execution_count": null,
   "metadata": {},
   "outputs": [],
   "source": [
    "%%HTML\n",
    "<!-- Mejorar visualización en proyector -->\n",
    "<style>\n",
    ".rendered_html {font-size: 1.2em; line-height: 150%;}\n",
    "div.prompt {min-width: 0ex; padding: 0px;}\n",
    ".container {width:95% !important;}\n",
    "</style>"
   ]
  },
  {
   "cell_type": "code",
   "execution_count": null,
   "metadata": {},
   "outputs": [],
   "source": [
    "%autosave 0\n",
    "%matplotlib notebook\n",
    "import matplotlib.pyplot as plt\n",
    "import numpy as np\n",
    "import torch\n",
    "from tqdm import tqdm_notebook\n",
    "import corner"
   ]
  },
  {
   "cell_type": "markdown",
   "metadata": {},
   "source": [
    "# A (brief) tutorial on [Pyro](https://pyro.ai/)\n",
    "\n",
    "Pyro can be used to perform MCMC and/or approximate inference for intractable posteriors\n",
    "\n",
    "We can use Pyro to move from point estimates to posteriors in our **torch-based model**"
   ]
  },
  {
   "cell_type": "code",
   "execution_count": null,
   "metadata": {},
   "outputs": [],
   "source": [
    "import pyro\n",
    "display(pyro.__version__)\n",
    "pyro.set_rng_seed(101)"
   ]
  },
  {
   "cell_type": "markdown",
   "metadata": {},
   "source": [
    "Let's start by creating a normal distribution\n",
    "\n",
    "Distributions in Pyro are implemented in [`pyro.distributions`](http://docs.pyro.ai/en/stable/distributions.html)\n",
    "\n",
    "The `Normal` object expects location $\\mu$ and scale $\\sigma$"
   ]
  },
  {
   "cell_type": "code",
   "execution_count": null,
   "metadata": {},
   "outputs": [],
   "source": [
    "from pyro.distributions import Normal\n",
    "\n",
    "w_prior = Normal(loc=torch.tensor(0.), \n",
    "                 scale=torch.tensor(1.))"
   ]
  },
  {
   "cell_type": "markdown",
   "metadata": {},
   "source": [
    "We can sample from this distribution"
   ]
  },
  {
   "cell_type": "code",
   "execution_count": null,
   "metadata": {},
   "outputs": [],
   "source": [
    "# Get 1000 samples \n",
    "samples = w_prior.rsample(sample_shape=(1000, ))\n",
    "display(samples.shape)\n",
    "# Build an histogram\n",
    "fig, ax = plt.subplots(figsize=(7, 3))\n",
    "plt.hist(samples.detach().numpy(), bins=20, density=True)\n",
    "# Plot the pdf\n",
    "w_plot = np.linspace(-3, 3, num=100)\n",
    "w_pdf = torch.exp(w_prior.log_prob(torch.from_numpy(w_plot))).detach().numpy()\n",
    "plt.plot(w_plot, w_pdf, 'k-', lw=2);"
   ]
  },
  {
   "cell_type": "markdown",
   "metadata": {},
   "source": [
    "We can compute descriptors"
   ]
  },
  {
   "cell_type": "code",
   "execution_count": null,
   "metadata": {},
   "outputs": [],
   "source": [
    "#mean\n",
    "display(w_prior.mean)\n",
    "#standard deviation\n",
    "display(w_prior.stddev)\n",
    "#entropy\n",
    "display(w_prior.entropy())"
   ]
  },
  {
   "cell_type": "markdown",
   "metadata": {},
   "source": [
    "#### Shape of pyro tensors\n",
    "\n",
    "A distribution has two shapes\n",
    "\n",
    "`event_shape` refers to the dimensionality of the distribution, e.g. normal (number), multivariate normal (vector), Cholesky (matrix), etc\n",
    "\n",
    "> `event_shape` denotes dependent random variables\n",
    "\n",
    "`batch_shape` refers to a batch of distributions\n",
    "\n",
    "> `batch_shape` denotes conditionally independent random variables (typically our data dimension)\n",
    "\n",
    "We can create a batched distribution by batching the parameters\n",
    "\n",
    "The shape of a sampled tensor will be the sum of event and batch shapes"
   ]
  },
  {
   "cell_type": "code",
   "execution_count": null,
   "metadata": {},
   "outputs": [],
   "source": [
    "# Two conditionally independent normal RVs\n",
    "w_prior = Normal(torch.tensor([[0., 2.]]), torch.tensor([[1., 1.]]))\n",
    "# A multivariate normal with diagonal covariance\n",
    "#w_prior = Normal(torch.tensor([[0., 2.]]), torch.tensor([[1., 1.]])).to_event(1)\n",
    "\n",
    "display(w_prior.batch_shape)\n",
    "display(w_prior.event_shape)\n",
    "display(w_prior.rsample().shape)"
   ]
  },
  {
   "cell_type": "markdown",
   "metadata": {},
   "source": [
    "## Random variables in Pyro\n",
    "\n",
    "To create random variables that we can track within a model we use [`pyro.sample`](http://pyro.ai/examples/intro_part_i.html#The-pyro.sample-Primitive)\n",
    "\n",
    "`sample` expects a name and an object from [`pyro.distributions`](http://docs.pyro.ai/en/stable/distributions.html)\n",
    "\n",
    "For example, to create a variable named \"w\" with the previously defined distribution\n",
    "$$\n",
    "\\begin{align}\n",
    "w \\sim &\\mathcal{N}(\\mu, \\sigma^2) \\nonumber \\\\\n",
    "&\\mu = \\begin{pmatrix}0 \\\\ 2 \\end{pmatrix}, \\sigma = \\begin{pmatrix} 1 \\\\ 1 \\end{pmatrix} \\nonumber\n",
    "\\end{align}\n",
    "$$"
   ]
  },
  {
   "cell_type": "code",
   "execution_count": null,
   "metadata": {},
   "outputs": [],
   "source": [
    "def model():\n",
    "    return pyro.sample(name='w', \n",
    "                       fn=w_prior)"
   ]
  },
  {
   "cell_type": "markdown",
   "metadata": {},
   "source": [
    "Each time we run a model a random sample is returned"
   ]
  },
  {
   "cell_type": "code",
   "execution_count": null,
   "metadata": {},
   "outputs": [],
   "source": [
    "for i in range(10):\n",
    "    print(model())"
   ]
  },
  {
   "cell_type": "markdown",
   "metadata": {},
   "source": [
    "### Models and conditioning \n",
    "\n",
    "Let's consider a linear regression model\n",
    "\n",
    "$$\n",
    "y = w x + b\n",
    "$$\n",
    "\n",
    "We will write this model in Pyro \n",
    "\n",
    "For this we consider\n",
    "- $w$ and $b$ to be random variables with normal distributions (priors)\n",
    "- $y$ to be a random variable with normal distribution (likelihood)\n",
    "- $x$ to be a deterministic variable\n",
    "- $y$ is continioned to the observed data $\\{y_i\\}$\n"
   ]
  },
  {
   "cell_type": "code",
   "execution_count": null,
   "metadata": {},
   "outputs": [],
   "source": [
    "def model(x):\n",
    "    w = pyro.sample(\"w\", Normal(0.0, 10.0))\n",
    "    b = pyro.sample(\"b\", Normal(0.0, 10.0))\n",
    "    with pyro.plate('dataset', size=len(x)):\n",
    "        return pyro.sample(\"y\", Normal(x*w + b, 1.0))\n",
    "\n",
    "def conditioned_model(x, y):\n",
    "    return pyro.condition(model, data={\"y\": y})(x)\n",
    "\n",
    "# or equivalently\n",
    "\n",
    "def model_obs(x, y):  # equivalent to conditioned_scale above\n",
    "    w = pyro.sample(\"w\", Normal(0.0, 10.0))\n",
    "    b = pyro.sample(\"b\", Normal(0.0, 10.0))\n",
    "    with pyro.plate('dataset', size=len(x)):\n",
    "        return pyro.sample(\"y\", Normal(x*w + b, 1.0), obs=y)"
   ]
  },
  {
   "cell_type": "markdown",
   "metadata": {},
   "source": [
    "#### Technical details\n",
    "\n",
    "To create conditions we can use `pyro.condition` or the `obs` keyword of `pyro.sample`\n",
    "\n",
    "To create conditions on the whole dataset (assuming iid) we use [`pyro.plate`](http://docs.pyro.ai/en/stable/primitives.html#pyro.plate), which expects a name and the size of the dataset\n",
    "\n",
    "In this case we use `pyro.plate` as a context (vectorized plate), it can also be used as an iterator\n"
   ]
  },
  {
   "attachments": {
    "graphical_model.png": {
     "image/png": "[encoded data removed]"
    }
   },
   "cell_type": "markdown",
   "metadata": {},
   "source": [
    "#### Theorical details\n",
    "\n",
    "In summary the model has to define the generative process \n",
    "\n",
    "In this case\n",
    "- Choose hyperparameters: $\\mu_w, \\sigma_w, \\mu_b, \\sigma_b, \\sigma_\\epsilon$\n",
    "- Sample: $w \\sim \\mathcal{N}(\\mu_w, \\sigma_w^2)$\n",
    "- Sample: $b \\sim \\mathcal{N}(\\mu_b, \\sigma_b^2)$\n",
    "- For each $i=1,2,\\ldots, N$\n",
    "    - Sample: $y_i \\sim \\mathcal{N}(w x_i + b, \\sigma_\\epsilon^2)$\n",
    "\n",
    "This is often summarized using plate notation diagrams\n",
    "\n",
    "![graphical_model.png](attachment:graphical_model.png)"
   ]
  },
  {
   "cell_type": "markdown",
   "metadata": {},
   "source": [
    "# Inference\n",
    "\n",
    "Now that we have specified the model we would like to obtain the posterior of the parameters given the data and do predictions\n",
    "\n",
    "> If we can not solve it analytically or via enumeration we can resort to approximate inference\n",
    "\n",
    "Pyro offers different ways to perform approximate inference in the module [`pyro.infer`](https://docs.pyro.ai/en/stable/inference.html)\n",
    "\n",
    "For now we will focus on **Stochastic Variational Inference** \n",
    "\n",
    "\n",
    "The unified Variational Inference interface in Pyro is located in [`pyro.infer.SVI`](http://docs.pyro.ai/en/stable/inference_algos.html) \n",
    "\n",
    "To use SVI we need to specify\n",
    "1. A model function that defines our generative model\n",
    "1. A guide function that defines our approximate posterior\n",
    "1. A cost function \n",
    "1. An optimizer\n",
    "1. Number of samples to compute Monte-Carlo estimates"
   ]
  },
  {
   "cell_type": "markdown",
   "metadata": {},
   "source": [
    "### Guide function\n",
    "\n",
    "> The guide represents our approximate posterior $q_\\nu(\\theta)$ \n",
    "\n",
    "The guide has to define the distribution of the posterior of the parameters \n",
    "\n",
    "We use [`pyro.param`]() to register the hyperparameters of the approximate posterior $\\eta$\n",
    "\n",
    "> These parameters are the ones that we learn through optimization\n",
    "\n",
    "**Technical detail:** The guide function has the same inputs as the model function\n",
    "\n",
    "In this example we set a normal posterior $\\theta=(w, b)$ and create the corresponding hyperparameters $\\eta = (\\mu_w, \\sigma_w, \\mu_b, \\sigma_b)$"
   ]
  },
  {
   "cell_type": "code",
   "execution_count": null,
   "metadata": {},
   "outputs": [],
   "source": [
    "from torch.distributions import constraints\n",
    "\n",
    "def guide(x, y):\n",
    "    w_loc = pyro.param(\"w_loc\", torch.tensor(0.))\n",
    "    w_scale = pyro.param(\"w_scale\", torch.tensor(1.), constraint=constraints.positive)\n",
    "    w = pyro.sample(\"w\", Normal(w_loc, w_scale))\n",
    "    b_loc = pyro.param(\"b_loc\", torch.tensor(0.))\n",
    "    b_scale = pyro.param(\"b_scale\", torch.tensor(1.), constraint=constraints.positive)\n",
    "    b = pyro.sample(\"b\", Normal(b_loc, b_scale))"
   ]
  },
  {
   "cell_type": "markdown",
   "metadata": {},
   "source": [
    "### Cost function\n",
    "\n",
    "In the previous class we studied the Evidence Lower Bound (ELBO)\n",
    "\n",
    "$$\n",
    "\\begin{align}\n",
    "\\hat \\nu &= \\text{arg}\\max_\\nu \\mathcal{L}(\\nu) \\nonumber \\\\\n",
    "&= \\text{arg}\\max_\\nu - \\int q_\\nu(\\theta) \\log \\frac{q_\\nu(\\theta)}{p(\\mathcal{D}|\\theta) p (\\theta)} d\\theta\n",
    "\\end{align}\n",
    "$$\n",
    "\n",
    "where\n",
    "- The model function defines $p(\\mathcal{D}|\\theta) p (\\theta)$ \n",
    "- The guide function defines $q_\\nu(\\theta)$ \n",
    "\n",
    "Pyro offers several versions of the [ELBO](https://docs.pyro.ai/en/stable/inference_algos.html#module-pyro.infer.elbo)\n",
    "\n",
    "- `Trace_ELBO`: Default ELBO. Reduces variance of the gradients using \"Rao-Blackwellization\"\n",
    "- `TraceEnum_ELBO`: Performs exhaustive enumeration for discrete variables\n",
    "- `TraceMeanField_ELBO`: Assumes Mean-field structure. Reduce variance of gradients using analytical KL when possible\n",
    "\n",
    "> We will study the importance of gradient variance later"
   ]
  },
  {
   "cell_type": "markdown",
   "metadata": {},
   "source": [
    "### Training\n",
    "\n",
    "Once we have defined the model and guide we create an SVI object\n",
    "\n",
    "In this example we select the default ELBO and SGD with adaptive learning rate optimizer"
   ]
  },
  {
   "cell_type": "code",
   "execution_count": null,
   "metadata": {},
   "outputs": [],
   "source": [
    "pyro.enable_validation(True)\n",
    "pyro.clear_param_store()\n",
    "svi = pyro.infer.SVI(model=model_obs, guide=guide,\n",
    "                     loss=pyro.infer.Trace_ELBO(),\n",
    "                     optim=pyro.optim.ClippedAdam({\"lr\": 0.01}))"
   ]
  },
  {
   "cell_type": "markdown",
   "metadata": {},
   "source": [
    "The main method of SVI is \n",
    "\n",
    "- `svi.step(*args)`: Performs a gradient step, similar to `backward` plus `step` in pytorch\n",
    "\n",
    "`step` receives the inputs for guide and model as arguments"
   ]
  },
  {
   "cell_type": "code",
   "execution_count": null,
   "metadata": {},
   "outputs": [],
   "source": [
    "# Observed data\n",
    "x = torch.tensor([-2., 2.])\n",
    "y = torch.tensor([-2., 0.])\n",
    "\n",
    "fig, ax = plt.subplots(1, 5, figsize=(8, 2), dpi=120, tight_layout=True)\n",
    "lines = [ax_.plot([], [])[0] for ax_ in ax]\n",
    "param_names = [\"ELBO\", \"w_loc\", \"w_scale\", \"b_loc\", \"b_scale\"]\n",
    "param_evolution = {}\n",
    "for name in param_names:\n",
    "    param_evolution[name] = []\n",
    "    \n",
    "for ax_, name in zip(ax, param_names):\n",
    "    ax_.set_title(name)\n",
    "    \n",
    "for k in tqdm_notebook(range(3000)):\n",
    "    param_evolution[\"ELBO\"].append(svi.step(x, y))\n",
    "    for name in param_names[1:]:\n",
    "        param_evolution[name].append(pyro.param(name).item()) \n",
    "    \n",
    "    if np.mod(k, 100) == 0:\n",
    "        for i, name in enumerate(param_names):\n",
    "            lines[i].set_ydata(param_evolution[name][:k])\n",
    "        for line in lines:\n",
    "            line.set_xdata(range(k))\n",
    "        for ax_ in ax.ravel():\n",
    "            ax_.relim()\n",
    "            ax_.autoscale_view()\n",
    "        fig.canvas.draw()"
   ]
  },
  {
   "cell_type": "markdown",
   "metadata": {},
   "source": [
    "We see that the ELBO and the parameters have converged\n",
    "\n",
    "We can evaluate our results by observing the posteriors that we learnt"
   ]
  },
  {
   "cell_type": "code",
   "execution_count": null,
   "metadata": {},
   "outputs": [],
   "source": [
    "w_plot = Normal(pyro.param('w_loc'), pyro.param('w_scale')).rsample((10000,)).detach().numpy()\n",
    "b_plot = Normal(pyro.param('b_loc'), pyro.param('b_scale')).rsample((10000,)).detach().numpy()\n",
    "\n",
    "figure = corner.corner(np.stack((b_plot, w_plot)).T, smooth=1.,\n",
    "                       labels=[\"bias\", \"weight\"], bins=20, \n",
    "                       quantiles=[0.16, 0.5, 0.84], range=[(-4, 4), (-4, 4)],\n",
    "                       show_titles=True, title_kwargs={\"fontsize\": 12})"
   ]
  },
  {
   "cell_type": "code",
   "execution_count": null,
   "metadata": {},
   "outputs": [],
   "source": [
    "fig, ax = plt.subplots(figsize=(7, 3), tight_layout=True)\n",
    "\n",
    "line_x = np.linspace(-5, 5, num=100).astype('float32') \n",
    "\n",
    "for i in range(100):    \n",
    "    line_y = line_x*w_plot[i] + b_plot[i]\n",
    "    ax.plot(line_x, line_y, c='tab:blue', alpha=0.2)\n",
    "\n",
    "ax.errorbar(2, 0, xerr=0, yerr=2, fmt='none', c='k', zorder=100);\n",
    "ax.errorbar(-2, -2., xerr=0, yerr=2, fmt='none', c='k', zorder=100);"
   ]
  },
  {
   "cell_type": "markdown",
   "metadata": {},
   "source": [
    "We can also plot the predictive posterior\n",
    "\n",
    "For the moment the pyro interface to do this is a bit clunky"
   ]
  },
  {
   "cell_type": "code",
   "execution_count": null,
   "metadata": {},
   "outputs": [],
   "source": [
    "from pyro.distributions import Delta\n",
    "from pyro.infer import EmpiricalMarginal, TracePredictive\n",
    "\n",
    "posterior = svi.run(x, y)\n",
    "\n",
    "def wrapped_model(x, y):\n",
    "    pyro.sample(\"prediction\", Delta(model_obs(x, y)))\n",
    "\n",
    "trace_predictive = TracePredictive(wrapped_model, posterior, num_samples=10000)\n",
    "posterior_predictive = trace_predictive.run(torch.from_numpy(line_x), None)\n",
    "posterior_trace = EmpiricalMarginal(posterior_predictive, \"prediction\").enumerate_support().detach().cpu().numpy()\n",
    "\n",
    "med = np.median(posterior_trace, axis=0)\n",
    "qua = np.quantile(posterior_trace, (0.05, 0.95), axis=0)\n",
    "\n",
    "fig, ax = plt.subplots(figsize=(7, 3), tight_layout=True)\n",
    "ax.plot(line_x, med)\n",
    "ax.fill_between(line_x, qua[0], qua[1], alpha=0.5);"
   ]
  },
  {
   "cell_type": "markdown",
   "metadata": {},
   "source": [
    "### MCMC with Pyro\n",
    "\n",
    "[On the MCMC side Pyro](https://docs.pyro.ai/en/stable/mcmc.html) offers Hamiltonian Monte-Carlo and the more recent No-U turn sampler (NUTS)\n",
    "\n",
    "For theoretical details see Barber Chapter 27 or [here](https://github.com/magister-informatica-uach/INFO337/tree/master/MCMC)\n",
    "\n",
    "Here we run MCMC as a reference"
   ]
  },
  {
   "cell_type": "code",
   "execution_count": null,
   "metadata": {},
   "outputs": [],
   "source": [
    "from pyro.infer.mcmc import NUTS\n",
    "from pyro.infer.mcmc.api import MCMC\n",
    "\n",
    "nuts_kernel = NUTS(model_obs, adapt_step_size=True)\n",
    "sampler = MCMC(nuts_kernel, num_chains=1, num_samples=10000, warmup_steps=1000)\n",
    "sampler.run(x, y)"
   ]
  },
  {
   "cell_type": "markdown",
   "metadata": {},
   "source": [
    "Print a summary:"
   ]
  },
  {
   "cell_type": "code",
   "execution_count": null,
   "metadata": {},
   "outputs": [],
   "source": [
    "sampler.summary()"
   ]
  },
  {
   "cell_type": "markdown",
   "metadata": {},
   "source": [
    "Plot the posteriors"
   ]
  },
  {
   "cell_type": "code",
   "execution_count": null,
   "metadata": {},
   "outputs": [],
   "source": [
    "samples = sampler.get_samples()\n",
    "w_plot = samples['w'].detach().numpy()\n",
    "b_plot = samples['b'].detach().numpy()\n",
    "\n",
    "figure = corner.corner(np.stack((b_plot, w_plot)).T, smooth=1.,\n",
    "                       labels=[\"b\", \"w\"], bins=20, \n",
    "                       quantiles=[0.16, 0.5, 0.84], range=[(-4, 4), (-4, 4)],\n",
    "                       show_titles=True, title_kwargs={\"fontsize\": 12})"
   ]
  },
  {
   "cell_type": "markdown",
   "metadata": {},
   "source": [
    "Not too different from the VI solution\n",
    "\n",
    "But remember, in this case we used to actual posterior (normal) in the guide\n",
    "\n",
    "Most of the time we won't be so lucky"
   ]
  },
  {
   "cell_type": "markdown",
   "metadata": {},
   "source": [
    "# Pyro summary\n",
    "\n",
    "- We create (deterministic) parameters with `pyro.param`\n",
    "- We create latent random variables using `pyro.sample`\n",
    "- We create observed random variables using `pyro.sample` with the `obs` keyword\n",
    "\n",
    "> The model represents our graphical model\n",
    "\n",
    "> The guide represents our assumptions on the latent variables"
   ]
  },
  {
   "cell_type": "markdown",
   "metadata": {},
   "source": [
    "# Bayesian Neural Networks\n",
    "\n",
    "> Deep Neural Networks are non-linear function approximators which represent the state of the art in pattern recognition\n",
    "\n",
    "But they do have limitations\n",
    "\n",
    "- Very deep models require lots of data and can be hard to train\n",
    "- Selecting an architecture requires a lot of experimentation\n",
    "- [Not too robust](https://openai.com/blog/adversarial-example-research/)\n",
    "- Poor at representing uncertainty\n",
    "\n",
    "> We can leverage some of these by going Bayesian\n",
    "\n",
    "- A Bayesian neural network (BNN) places a prior distribution on its parameters \n",
    "- Training the BNN $\\equiv$ Learning the posterior distribution of the parameters given the data\n",
    "- The **uncertainty on the data and the parameters** can be propagated to estimate the **uncertainty on our predictions**\n",
    "    - Uncertainty on the data is called **aleatoric uncertainty** and it is related to irreducible noise\n",
    "    - Uncertainty on the model (parameters and structure) is called **epistemic uncertainty**\n",
    "\n",
    "> We know what we don't know\n",
    "\n",
    "We can use this \"new knowledge\" to\n",
    "- Decide when to use a more simple/complex model (complexity-control)\n",
    "- Decide when to take a critical decisions\n",
    "    - Autonomouse cars\n",
    "    - Cancer diagnosis"
   ]
  },
  {
   "cell_type": "markdown",
   "metadata": {},
   "source": [
    "## A bit of history\n",
    "\n",
    "> Bayesian neural networks is an active area of research \n",
    "\n",
    "- 1980's: Bayes theorem applied to Neural Networks (John Hopfield and Naftali Tishby)\n",
    "- 1990's: Monte-Carlo and VI for bayesian neural networks was studied extensively by [David Mackay](http://www.inference.org.uk/mackay/BayesNets.html) and [Radford Neal](https://www.cs.toronto.edu/~radford/res-neural.html) (Also Bishop, Barber, Hinton, Gharamani and many others). Neal shows that Gaussian process are bayesian neural networks with infinite neurons\n",
    "\n",
    "> The models remain quite difficult to train for some time\n",
    "\n",
    "- 2010's: Deep learning arrives \n",
    "- 2011: [Alex Graves' VI for neural networks](https://papers.nips.cc/paper/4329-practical-variational-inference-for-neural-networks)\n",
    "- Explosion of practical deep bayesian networks \n",
    "    - [Charles Blundell's Bayes by backprop](https://arxiv.org/abs/1505.05424)\n",
    "    - [Yarin Gal's many work](http://mlg.eng.cam.ac.uk/yarin/thesis/thesis.pdf)\n",
    "    - Durk Kingma, Danilo Jimenez Rezende, Shakir Mohamed, José Miguel Hernandez-Lobato\n",
    "- [Hot topic now a days](http://bayesiandeeplearning.org/)\n",
    "\n",
    "History in video by [Zoubin Gharamani](http://mlg.eng.cam.ac.uk/zoubin/) at [NIPS 2016](https://www.youtube.com/watch?v=FD8l2vPU5FY) and [interesting panel discussion](https://www.youtube.com/watch?v=HumFmLu3CJ8) on the same conference\n"
   ]
  },
  {
   "cell_type": "markdown",
   "metadata": {},
   "source": [
    "### More formally\n",
    "\n",
    "\n",
    "Assuming we have *iid* samples $\\mathcal{D} =\\{(x^{(1)}, y^{(1)}), \\ldots \\}$ and a one-layer fully-connected neural networks for regression\n",
    "\n",
    "$$\n",
    "\\begin{align}\n",
    "f(x) &=   b_i + \\sum_{j=1}^H w_{ij} h_j  \\nonumber \\\\\n",
    "&=  b_i + \\sum_{j=1}^H w_{ij} g \\left( b_j + \\sum_{d=1}^D w_{jd} x_d  \\right) \\nonumber\n",
    "\\end{align}\n",
    "$$\n",
    "\n",
    "The parameter vector $\\theta$ contains all the weights and biases\n",
    "\n",
    "First we propose a prior for $\\theta$, typically\n",
    "\n",
    "$$\n",
    "\\theta \\sim \\mathcal{N}(\\theta | 0, \\Sigma_\\theta)\n",
    "$$\n",
    "\n",
    "Then we propose a likelihood depending on our task (Gaussian for regression, Bernoulli for classification)\n",
    "\n",
    "Finally we use Bayes theorem to write the posterior\n",
    "\n",
    "$$\n",
    "p(\\theta | \\mathcal{D}) = \\frac{p(\\mathcal{D}|\\theta) p(\\theta)}{p(\\mathcal{D})} = \\frac{1}{{p(\\mathcal{D})}} \\prod_n \\mathcal{N}(y^{(n)} | f(x^{(n)}), \\sigma^2) \\mathcal{N}(\\theta | 0, \\Sigma_\\theta)\n",
    "$$\n",
    "\n",
    "But\n",
    "\n",
    "> Because of the nested nonlinearities this posterior is not Gaussian\n",
    "\n",
    "In general\n",
    "\n",
    "> We cannot obtain an analytical posterior for a bayesian neural network\n",
    "\n",
    "We resort to sampling-based (MCMC) or deterministic (VI) approximate inference"
   ]
  },
  {
   "cell_type": "markdown",
   "metadata": {},
   "source": [
    "## My first Bayesian Neural Network using Pyro\n",
    "\n",
    "\n",
    "First let's write a pytorch implementation of our simple MLP network for regression "
   ]
  },
  {
   "cell_type": "code",
   "execution_count": null,
   "metadata": {},
   "outputs": [],
   "source": [
    "class MLP(torch.nn.Module):\n",
    "    def __init__(self, n_hidden=10):\n",
    "        super(MLP, self).__init__()\n",
    "        self.hidden = torch.nn.Linear(1, n_hidden, bias=True)\n",
    "        self.output = torch.nn.Linear(n_hidden, 1, bias=True)\n",
    "        self.activation = torch.nn.Tanh()\n",
    "        \n",
    "    def forward(self, x):\n",
    "        z = self.activation(self.hidden(x))\n",
    "        return self.output(z)"
   ]
  },
  {
   "cell_type": "markdown",
   "metadata": {},
   "source": [
    "We will use the same synthetic from our previous example"
   ]
  },
  {
   "cell_type": "code",
   "execution_count": null,
   "metadata": {},
   "outputs": [],
   "source": [
    "# Synthetic data\n",
    "se = 0.1\n",
    "np.random.seed(0)\n",
    "x = np.linspace(0, 1, num=20) \n",
    "x_test = np.linspace(-0.05, 1.05, num=200)\n",
    "f = lambda x : x*np.sin(10*x)\n",
    "\n",
    "x = np.delete(x, slice(9, 14))\n",
    "y = f(x) + se*np.random.randn(len(x))\n",
    "fig, ax = plt.subplots(figsize=(7, 3), tight_layout=True)\n",
    "ax.scatter(x, y);\n",
    "\n",
    "x_torch = torch.from_numpy(x.astype('float32')).unsqueeze(1)\n",
    "x_test = torch.from_numpy(x_test.astype('float32')).unsqueeze(1)\n",
    "y_torch = torch.from_numpy(y.astype('float32')).unsqueeze(1)"
   ]
  },
  {
   "cell_type": "code",
   "execution_count": null,
   "metadata": {},
   "outputs": [],
   "source": [
    "mlp_model = MLP(n_hidden=10)\n",
    "criterion = torch.nn.MSELoss(reduction='sum')\n",
    "optimizer = torch.optim.Adam(mlp_model.parameters(), \n",
    "                             lr=1e-2, \n",
    "                             weight_decay=0.0) # Change the weight decay\n",
    "\n",
    "fig, ax = plt.subplots(1, 2, figsize=(7, 3), tight_layout=True, dpi=120)\n",
    "f = mlp_model.forward(x_test).detach().numpy()\n",
    "line1 = ax[0].plot(x_test.detach().numpy(), f, 'k-')\n",
    "line2 = ax[1].plot([], [])\n",
    "ax[0].scatter(x, y)\n",
    "\n",
    "epoch_loss = np.zeros(shape=(2000,))\n",
    "for k in tqdm_notebook(range(len(epoch_loss))):\n",
    "    optimizer.zero_grad()\n",
    "    f = mlp_model.forward(x_torch)\n",
    "    loss = criterion(y_torch, f)\n",
    "    loss.backward()\n",
    "    optimizer.step()\n",
    "    epoch_loss[k] = loss.item()\n",
    "    #break    \n",
    "    if k % 100 == 0:\n",
    "        f = mlp_model.forward(x_test).detach().numpy()\n",
    "        line1[0].set_ydata(f)\n",
    "        line2[0].set_xdata(range(k))\n",
    "        line2[0].set_ydata(epoch_loss[:k])\n",
    "        for ax_ in ax:\n",
    "            ax_.relim()\n",
    "            ax_.autoscale_view()\n",
    "        fig.canvas.draw()\n",
    "torch.save(mlp_model.state_dict(), \"/home/phuijse/models/best_model.pt\")"
   ]
  },
  {
   "cell_type": "markdown",
   "metadata": {},
   "source": [
    "## Lifting a torch model\n",
    "\n",
    "> Pyro offers [`pyro.random_module()`](http://docs.pyro.ai/en/stable/primitives.html?highlight=random_module#pyro.random_module) to \"lift\" a torch model into a pyro model\n",
    "\n",
    "This function grabs an object that inherites from `torch.nn.Module` and adds priors to its parameters\n",
    "\n",
    "In this case the parameters of the model are `hidden.weight`, `hidden.bias`, `output.weight` and `output.bias`\n",
    "\n",
    "> We will add a Normal prior to these parameters\n",
    "\n",
    "We will use conditioning for the likelihood \n",
    "\n",
    "> The likelihood is set to normal with  $f_\\theta(x^{(n)})$ as its mean and $\\sigma_\\epsilon$ as its scale\n",
    "\n",
    "We condition on the whole dataset (assuming independence) using [`pyro.plate`](http://docs.pyro.ai/en/stable/primitives.html#pyro.plate)"
   ]
  },
  {
   "cell_type": "code",
   "execution_count": null,
   "metadata": {},
   "outputs": [],
   "source": [
    "import pyro\n",
    "from pyro.distributions import Normal, LogNormal\n",
    "\n",
    "def model(x, y):\n",
    "    # We add normal priors to w and b\n",
    "    \n",
    "    w_hidden_prior = Normal(torch.zeros_like(mlp_model.hidden.weight), \n",
    "                            10*torch.ones_like(mlp_model.hidden.weight)).to_event(2)\n",
    "    b_hidden_prior = Normal(torch.zeros_like(mlp_model.hidden.bias), \n",
    "                            10*torch.ones_like(mlp_model.hidden.bias)).to_event(1)\n",
    "    w_output_prior = Normal(torch.zeros_like(mlp_model.output.weight), \n",
    "                            10*torch.ones_like(mlp_model.output.weight)).to_event(2)\n",
    "    b_output_prior = Normal(torch.zeros_like(mlp_model.output.bias), \n",
    "                            10*torch.ones_like(mlp_model.output.bias)).to_event(1)\n",
    "    priors = {'hidden.weight': w_hidden_prior, 'hidden.bias': b_hidden_prior,\n",
    "              'output.weight': w_output_prior, 'output.bias': b_output_prior}\n",
    "    # lift module parameters to random variables sampled from the priors\n",
    "    lifted_module = pyro.random_module(\"module\", mlp_model, priors)    \n",
    "    #with pyro.plate(\"num_particles\", size=2, dim=-1):\n",
    "    lifted_mlp_model = lifted_module()\n",
    "    # We create a random variable for the scale\n",
    "    #scale = pyro.sample(\"sigma\", LogNormal(-2., 1.))\n",
    "    # Condition on the dataset assuming iid using a vectorized plate\n",
    "    with pyro.plate(\"observed_data\", size=len(x), dim=-1):\n",
    "        prediction_mean = lifted_mlp_model(x).squeeze(-1)\n",
    "        pyro.sample(\"likelihood\", Normal(prediction_mean, 0.05), obs=y)\n",
    "    return prediction_mean"
   ]
  },
  {
   "cell_type": "markdown",
   "metadata": {},
   "source": [
    "**Very useful:** debugging the [shapes](#http://pyro.ai/examples/tensor_shapes.html) of the tensors in the network"
   ]
  },
  {
   "cell_type": "code",
   "execution_count": null,
   "metadata": {},
   "outputs": [],
   "source": [
    "print(pyro.poutine.trace(model).get_trace(x_torch, y_torch.squeeze(-1)).format_shapes())"
   ]
  },
  {
   "cell_type": "markdown",
   "metadata": {},
   "source": [
    "- Batch dimension is 15 (number of samples)\n",
    "- Event dimension is equal to the number of neurons for each layer"
   ]
  },
  {
   "cell_type": "markdown",
   "metadata": {},
   "source": [
    "### MCMC for the BNN\n",
    "\n",
    "Even for a extremely simple NN and using the most advanced samplers MCMC can be inpractical\n",
    "\n",
    "(Don't try to wait for this to converge)"
   ]
  },
  {
   "cell_type": "code",
   "execution_count": null,
   "metadata": {},
   "outputs": [],
   "source": [
    "from pyro.infer.mcmc import NUTS\n",
    "from pyro.infer.mcmc.api import MCMC\n",
    "\n",
    "nuts_kernel = NUTS(model, adapt_step_size=True)\n",
    "sampler = MCMC(nuts_kernel, num_chains=1, num_samples=10000, warmup_steps=1000)\n",
    "sampler.run(x_torch, y_torch)"
   ]
  },
  {
   "cell_type": "markdown",
   "metadata": {},
   "source": [
    "## VI for the BNN\n",
    "\n",
    "To proceed with VI instead we need to define our approximate posterior (guide) and loss function (ELBO)\n",
    "\n",
    "> We will consider a factorized Gaussian for the posterior\n",
    "\n",
    "We will use the solution of the \"regular\" neural network to initialize the guide"
   ]
  },
  {
   "cell_type": "code",
   "execution_count": null,
   "metadata": {},
   "outputs": [],
   "source": [
    "from torch.distributions import constraints\n",
    "mlp_model = MLP(n_hidden=10)\n",
    "mlp_model.load_state_dict(torch.load(\"/home/phuijse/models/best_model.pt\"))\n",
    "\n",
    "def guide(x, y):\n",
    "    # Hidden weight\n",
    "    w_hidden_loc = pyro.param(\"w_hidden_mu\", mlp_model.hidden.weight)\n",
    "    w_hidden_scale = pyro.param(\"w_hidden_sigma\", \n",
    "                                0.1*torch.ones_like(mlp_model.hidden.weight),\n",
    "                                constraint=constraints.greater_than(1e-2))\n",
    "    w_hidden_prior = Normal(loc=w_hidden_loc, scale=w_hidden_scale).to_event(2)\n",
    "    # Hidden bias\n",
    "    b_hidden_loc = pyro.param(\"b_hidden_mu\", mlp_model.hidden.bias)\n",
    "    b_hidden_scale = pyro.param(\"b_hidden_sigma\", \n",
    "                                0.1*torch.ones_like(mlp_model.hidden.bias),\n",
    "                                constraint=constraints.greater_than(1e-2))\n",
    "    b_hidden_prior = Normal(loc=b_hidden_loc, scale=b_hidden_scale).to_event(1)\n",
    "    # Output weight\n",
    "    w_output_loc = pyro.param(\"w_output_mu\", mlp_model.output.weight)\n",
    "    w_output_scale = pyro.param(\"w_output_sigma\", \n",
    "                                0.1*torch.ones_like(mlp_model.output.weight), \n",
    "                                constraint=constraints.greater_than(1e-2))\n",
    "    w_output_prior = Normal(loc=w_output_loc, scale=w_output_scale).to_event(2)\n",
    "    # Output bias\n",
    "    b_output_loc = pyro.param(\"b_output_mu\", mlp_model.output.bias)\n",
    "    b_output_scale = pyro.param(\"b_output_sigma\", \n",
    "                                0.1*torch.ones_like(mlp_model.output.bias), \n",
    "                                constraint=constraints.greater_than(1e-2))\n",
    "    b_output_prior = Normal(loc=b_output_loc, scale=b_output_scale).to_event(1)\n",
    "    # lift module parameters to random variables sampled from the priors\n",
    "    priors = {'hidden.weight': w_hidden_prior, 'hidden.bias': b_hidden_prior,\n",
    "              'output.weight': w_output_prior, 'output.bias': b_output_prior}\n",
    "    lifted_module = pyro.random_module(\"module\", mlp_model, priors)\n",
    "    lifted_mlp_model = lifted_module()\n",
    "    #s_loc = pyro.param(\"s_loc\", torch.tensor(-2.))\n",
    "    #s_scale = pyro.param(\"s_scale\", torch.tensor(1.0), \n",
    "    #                     constraint=constraints.greater_than(1e-2))\n",
    "    #pyro.sample('sigma', LogNormal(s_loc, s_scale))"
   ]
  },
  {
   "cell_type": "markdown",
   "metadata": {},
   "source": [
    "Our approximate posterior assumes that there is no correlation between weights: **Mean Field**\n",
    "\n",
    "We can use the `TraceMeanField_ELBO` as cost function"
   ]
  },
  {
   "cell_type": "code",
   "execution_count": null,
   "metadata": {},
   "outputs": [],
   "source": [
    "pyro.enable_validation(True)\n",
    "pyro.clear_param_store()\n",
    "svi = pyro.infer.SVI(model, guide, pyro.optim.Adam({\"lr\": 1e-2}), \n",
    "                     loss=pyro.infer.TraceMeanField_ELBO(num_particles=1, \n",
    "                                                         vectorize_particles=False), \n",
    "                     num_samples=100)"
   ]
  },
  {
   "cell_type": "markdown",
   "metadata": {},
   "source": [
    "We train and plot the traces as we go "
   ]
  },
  {
   "cell_type": "code",
   "execution_count": null,
   "metadata": {},
   "outputs": [],
   "source": [
    "from pyro.distributions import Delta\n",
    "from pyro.infer import EmpiricalMarginal, TracePredictive\n",
    "\n",
    "epoch_loss = np.zeros(shape=(20000,))\n",
    "fig, ax = plt.subplots(1, 2, figsize=(7, 3), tight_layout=True, dpi=120)\n",
    "line1 = ax[0].plot([], [])\n",
    "\n",
    "def wrapped_model(x_data, y_data):\n",
    "    pyro.sample(\"prediction\", Delta(model(x_data, y_data)))    \n",
    "\n",
    "for k in tqdm_notebook(range(len(epoch_loss))):\n",
    "    loss = svi.step(x=x_torch, y=y_torch.squeeze(-1))\n",
    "    epoch_loss[k] = loss / len(x_torch)\n",
    "        \n",
    "    if k % 10 == 0:\n",
    "        # Update loss\n",
    "        line1[0].set_xdata(range(k))\n",
    "        line1[0].set_ydata(epoch_loss[:k])\n",
    "        ax[0].relim()\n",
    "        ax[0].autoscale_view()\n",
    "        fig.canvas.draw()\n",
    "        # Update predictive posterior\n",
    "        posterior = svi.run(x_torch, y_torch.squeeze(-1))\n",
    "        trace_predictive = TracePredictive(wrapped_model, posterior, num_samples=100)\n",
    "        posterior_predictive = trace_predictive.run(x_test, None)\n",
    "        ax[1].cla()\n",
    "        ax[1].plot(x, y, 'k.');\n",
    "        posterior_trace = EmpiricalMarginal(posterior_predictive, \"prediction\").enumerate_support().detach().cpu().numpy()\n",
    "        med = np.median(posterior_trace, axis=[0])\n",
    "        qua = np.quantile(posterior_trace, (0.05, 0.95), axis=0)\n",
    "        ax[1].plot(x_test.numpy()[:, 0], med)\n",
    "        ax[1].fill_between(x_test.numpy()[:, 0], qua[0], qua[1], alpha=0.5)"
   ]
  },
  {
   "cell_type": "markdown",
   "metadata": {},
   "source": [
    "### Inspecting the results"
   ]
  },
  {
   "cell_type": "markdown",
   "metadata": {},
   "source": [
    "We can compute traces and plot the predictive posterior as we did during training"
   ]
  },
  {
   "cell_type": "code",
   "execution_count": null,
   "metadata": {},
   "outputs": [],
   "source": [
    "trace_predictive = TracePredictive(wrapped_model, posterior, num_samples=500)\n",
    "x_plot = np.linspace(-0.2, 1.2, num=200).astype('float32')\n",
    "posterior_predictive = trace_predictive.run(torch.from_numpy(x_plot[:, None]), None)\n",
    "\n",
    "posterior_trace = EmpiricalMarginal(posterior_predictive, \"prediction\").enumerate_support().detach().cpu().numpy()\n",
    "med = np.median(posterior_trace, axis=[0])\n",
    "qua = np.quantile(posterior_trace, (0.01, 0.99), axis=0)\n",
    "\n",
    "fig, ax = plt.subplots(1, 2, figsize=(6, 3), sharex=True, sharey=True, tight_layout=True)\n",
    "for i in range(posterior_trace.shape[0]):\n",
    "    ax[0].plot(x_plot, posterior_trace[i, :], '-', c='tab:blue', alpha=0.01)\n",
    "ax[1].plot(x_plot, med)\n",
    "ax[1].fill_between(x_plot, qua[0], qua[1], alpha=0.5)\n",
    "ax[1].plot(x, y, 'k.');\n",
    "ax[1].set_ylim([-2, 2]);"
   ]
  },
  {
   "cell_type": "markdown",
   "metadata": {},
   "source": [
    "We can also visualize the posteriors of our parameters\n",
    "\n",
    "From the samples of the empirical marginals we can create histograms and compute statistics"
   ]
  },
  {
   "cell_type": "code",
   "execution_count": null,
   "metadata": {},
   "outputs": [],
   "source": [
    "posterior = svi.run(x_torch, y_torch.squeeze(-1))\n",
    "\n",
    "fig, ax = plt.subplots(2, 5, figsize=(9, 3), tight_layout=True)\n",
    "for row, param in enumerate([\"module$$$hidden.weight\", \"module$$$output.weight\"]):\n",
    "    #marginal_trace = EmpiricalMarginal(posterior, param).sample(sample_shape=torch.Size([1000]))\n",
    "    marginal_trace = EmpiricalMarginal(posterior, param).enumerate_support()\n",
    "    samples = marginal_trace.reshape(100, -1).detach().numpy()\n",
    "    for k in range(5): #samples.shape[1]\n",
    "        print(\"%s\\t%d\\t%0.4f\\t%0.4f\\t%0.4f\" %(param, k, *np.quantile(samples[:, k], (0.05, 0.5, 0.95))))\n",
    "        ax[row, k].hist(samples[:, k], density=True, label=param+' '+str(k))"
   ]
  },
  {
   "cell_type": "markdown",
   "metadata": {},
   "source": [
    "We can also obtain the learned guide hyperparameters:"
   ]
  },
  {
   "cell_type": "code",
   "execution_count": null,
   "metadata": {},
   "outputs": [],
   "source": [
    "for name, value in pyro.get_param_store().items():\n",
    "    print(name, pyro.param(name))"
   ]
  },
  {
   "cell_type": "markdown",
   "metadata": {},
   "source": [
    "#### Pyro's automatic guides\n",
    "\n",
    "For the guide we could have used the [\"auto guide\"](https://docs.pyro.ai/en/0.3.0-release/contrib.autoguide.html) functionality"
   ]
  },
  {
   "cell_type": "code",
   "execution_count": null,
   "metadata": {},
   "outputs": [],
   "source": [
    "from pyro.contrib.autoguide import AutoDiagonalNormal\n",
    "from pyro.infer.autoguide import init_to_feasible, init_to_sample, init_to_mean\n",
    "\n",
    "guide = AutoDiagonalNormal(model, init_loc_fn=init_to_feasible)"
   ]
  },
  {
   "cell_type": "markdown",
   "metadata": {},
   "source": [
    "Can we train with this guide?"
   ]
  },
  {
   "cell_type": "markdown",
   "metadata": {},
   "source": [
    "## A note on Bayesian Neural Networks Training\n",
    "\n",
    "- State of the art!\n",
    "- Very delicate: bad initializations and local minima \n",
    "- Set appropriate priors\n",
    "- Variance control and reparameterization (more on this next class)\n",
    "\n",
    "\n"
   ]
  },
  {
   "cell_type": "code",
   "execution_count": null,
   "metadata": {},
   "outputs": [],
   "source": []
  }
 ],
 "metadata": {
  "kernelspec": {
   "display_name": "Python 3",
   "language": "python",
   "name": "python3"
  },
  "language_info": {
   "codemirror_mode": {
    "name": "ipython",
    "version": 3
   },
   "file_extension": ".py",
   "mimetype": "text/x-python",
   "name": "python",
   "nbconvert_exporter": "python",
   "pygments_lexer": "ipython3",
   "version": "3.7.3"
  }
 },
 "nbformat": 4,
 "nbformat_minor": 2
}
