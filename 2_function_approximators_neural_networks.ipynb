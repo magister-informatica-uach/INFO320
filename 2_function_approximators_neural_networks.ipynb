{
 "cells": [
  {
   "cell_type": "code",
   "execution_count": null,
   "metadata": {},
   "outputs": [],
   "source": [
    "%%HTML\n",
    "<!-- Mejorar visualización en proyector -->\n",
    "<style>\n",
    ".rendered_html {font-size: 1.2em; line-height: 150%;}\n",
    "div.prompt {min-width: 0ex; padding: 0px;}\n",
    ".container {width:95% !important;}\n",
    "</style>"
   ]
  },
  {
   "cell_type": "code",
   "execution_count": null,
   "metadata": {},
   "outputs": [],
   "source": [
    "%autosave 0\n",
    "%matplotlib notebook\n",
    "import numpy as np\n",
    "import matplotlib.pyplot as plt\n",
    "from tqdm import tqdm_notebook\n",
    "import torch"
   ]
  },
  {
   "cell_type": "markdown",
   "metadata": {},
   "source": [
    "# Linear Regression\n",
    "\n",
    "In linear regression we have a \n",
    "- continuous one-dimensional target $y$ \n",
    "- continuous D-dimensional input $x$ \n",
    "\n",
    "related by a linear mapping\n",
    "\n",
    "$$\n",
    "b + \\sum_{d=1}^D w_d x_d = f_\\theta(x)  \\rightarrow y\n",
    "$$\n",
    "\n",
    "> The model is specified by $\\theta=(b, w_1, w_2, \\ldots, w_D)$\n",
    "\n",
    "Typically, we fit this model by \n",
    "$$\n",
    "\\min_\\theta\\sum_n \\left(y_n - f_\\theta(x_n) \\right)^2 = (Y - \\Phi \\theta)^T (Y - \\Phi \\theta)\n",
    "$$\n",
    "\n",
    "whose solution is\n",
    "\n",
    "$$\n",
    "\\theta = (\\Phi^T \\Phi)^{-1} \\Phi^T Y,\n",
    "$$\n",
    "\n",
    "where $\\Phi  = \\begin{pmatrix} 1 & x_{11} & x_{12} & \\ldots & x_{1D} \\\\ \n",
    "1 & x_{21} & x_{22} & \\ldots & x_{2D} \\\\\n",
    "1 & \\vdots & \\vdots & \\ddots & \\vdots \\\\\n",
    "1 & x_{N1} & x_{N2} & \\ldots & x_{ND} \\end{pmatrix}$,  $Y = \\begin{pmatrix} y_1 \\\\ y_2 \\\\ \\vdots \\\\ y_N \\end{pmatrix}$ and  $\\theta =  \\begin{pmatrix} b \\\\ w_1 \\\\ \\vdots \\\\ w_D \\end{pmatrix}$\n",
    "\n",
    "> This is known as the ordinary least squares (OLS) solution\n",
    "\n",
    "#### Note: Linear regression is *linear on the parameters*\n",
    "\n",
    "If we apply transformations we obtain the same solution. The only difference is in $\\Phi$\n",
    "\n",
    "For example\n",
    "- Polynomial basis regression $f_\\theta(x) = \\sum_d w_d x^d + b$ \n",
    "- Sine-wave basis regression $f_\\theta(x) = \\sum_d \\alpha_d \\cos(2\\pi d f_0 x)  + \\sum_d \\beta_d \\sin(2\\pi d f_0 x) + c$ "
   ]
  },
  {
   "cell_type": "markdown",
   "metadata": {},
   "source": [
    "### Probabilistic linear regression\n",
    "\n",
    "We can assume that observations are noisy and write\n",
    "\n",
    "$$\n",
    "\\begin{align}\n",
    "y &= f_\\theta(x) + \\epsilon \\nonumber \\\\\n",
    "&= b + \\sum_{d=1}^D w_d x_d   + \\epsilon, \\nonumber\n",
    "\\end{align}\n",
    "$$\n",
    "\n",
    "If the noise is independent and Gaussian distributed (iid) with variance $\\sigma_\\epsilon^2$ then\n",
    "\n",
    "$$\n",
    "p(y|x, \\theta) = \\mathcal{N}\\left(y| f_\\theta(x) , \\sigma_\\epsilon^2 \\right)\n",
    "$$\n",
    "\n",
    "Additionally, we may want to discourage large values of $\\theta~$ by placing a prior\n",
    "\n",
    "$$\n",
    "p(\\theta) = \\mathcal{N}(0, \\Sigma_\\theta)\n",
    "$$\n",
    "\n",
    "The prior on the parameters gives us the space of possible models (before presenting data)"
   ]
  },
  {
   "cell_type": "code",
   "execution_count": null,
   "metadata": {},
   "outputs": [],
   "source": [
    "line_x = np.linspace(-5, 5, num=100)[:, None].astype('float32') #100x1\n",
    "\n",
    "sw, sb = 5., 5.\n",
    "fig, ax = plt.subplots(figsize=(7, 3), tight_layout=True)\n",
    "for i in range(100):\n",
    "    linear_layer = torch.nn.Linear(1, 1)\n",
    "    torch.nn.init.normal_(linear_layer.weight, 0.0, sw)\n",
    "    torch.nn.init.normal_(linear_layer.bias, 0.0, sb)\n",
    "    #y = W*x + b\n",
    "    line_y = linear_layer(torch.from_numpy(line_x)).detach().numpy()\n",
    "    ax.plot(line_x, line_y, c='tab:blue', alpha=0.25)"
   ]
  },
  {
   "cell_type": "markdown",
   "metadata": {},
   "source": [
    "We constraint the space of solutions by presenting data\n",
    "\n",
    "### Point-estimate solution (MAP)\n",
    "\n",
    "For a dataset $\\mathcal{D} = \\{ (x_1, y_1), (x_2, y_2), \\ldots, (x_N, y_N) \\}$\n",
    "\n",
    "The Maximum a posteriori estimator of $\\theta~$ is given by\n",
    "$$\n",
    "\\begin{align}\n",
    "\\hat \\theta &= \\text{arg}\\max_\\theta \\log p(\\mathcal{D}| \\theta, \\sigma_\\epsilon^2) ~ \\mathcal{N} (\\theta|0, \\Sigma_\\theta) \\nonumber  \\\\\n",
    "&= \\text{arg}\\min_\\theta  \\frac{1}{2\\sigma_\\epsilon^2} (Y-\\Phi\\theta)^T (Y - \\Phi\\theta) + \\frac{1}{2} \\theta^T \\Sigma_\\theta^{-1} \\theta  \\nonumber\n",
    "\\end{align}\n",
    "$$\n",
    "where the log likelihood is\n",
    "$$\n",
    "\\log p(\\mathcal{D}| \\theta, \\sigma_\\epsilon^2) = \\sum_{n=1}^N \\log \\mathcal{N}(y_n|f_\\theta(x_n),\\sigma_\\epsilon^2)\n",
    "$$\n",
    "and the result is\n",
    "$$\n",
    "\\hat \\theta = (\\Phi^T \\Phi + \\lambda )^{-1} \\Phi^T Y\n",
    "$$\n",
    "where $\\lambda = \\sigma_\\epsilon^2 \\Sigma_\\theta^{-1}$\n",
    "\n",
    "> This is the ridge regression or **regularized least squares** solution\n",
    "\n",
    "What happens if the variance of the prior tends to infinite (uninformative prior)?\n"
   ]
  },
  {
   "cell_type": "markdown",
   "metadata": {},
   "source": [
    "### Bayesian solution for the parameters\n",
    "\n",
    "In this case we want the posterior of $\\theta~$ given the dataset\n",
    "\n",
    "Assuming that we know $\\sigma_\\epsilon$\n",
    "\n",
    "$$\n",
    "p(\\theta|\\mathcal{D}, \\sigma_\\epsilon^2) \\propto  \\mathcal{N}(Y| \\Phi \\theta, I\\sigma_\\epsilon^2) \\mathcal{N}(\\theta| \\theta_0, \\Sigma_{\\theta_0})\n",
    "$$\n",
    "\n",
    "The likelihood is normal and the prior is normal, so\n",
    "$$\n",
    "p(\\theta|\\mathcal{D}, \\sigma_\\epsilon^2) \\propto \\frac{1}{Z} \\exp \\left ( -\\frac{1}{2\\sigma_\\epsilon^2} (Y-\\Phi\\theta)^T (Y - \\Phi\\theta)  - \\frac{1}{2} (\\theta - \\theta_{0})^{T} \\Sigma_{\\theta_0}^{-1} (\\theta - \\theta_0)\\right)\n",
    "$$\n",
    "\n",
    "and (with a bit of algebra) it can be shown that this corresponds to a normal distribution \n",
    "\n",
    "$$\n",
    "p(\\theta|\\mathcal{D}, \\sigma_\\epsilon^2) = \\mathcal{N}(\\theta|\\theta_1, \\Sigma_{\\theta_1} )\n",
    "$$\n",
    "\n",
    "with parameters \n",
    "$$\n",
    "\\Sigma_{\\theta_1} = \\sigma_\\epsilon^2 (\\Phi^T \\Phi + \\sigma_\\epsilon^2  \\Sigma_{\\theta_0}^{-1})^{-1}\n",
    "$$\n",
    "$$\n",
    "\\theta_1 = \\Sigma_{\\theta_1} \\Sigma_{\\theta_0}^{-1} \\theta_{0} + \\frac{1}{\\sigma_\\epsilon^2} \\Sigma_{\\theta_1} \\Phi^T y\n",
    "$$\n",
    "\n",
    "> **Iterative framework:** We can present data and update the distribution of $\\theta~$"
   ]
  },
  {
   "cell_type": "markdown",
   "metadata": {},
   "source": [
    "#### Fitting a line\n",
    "\n",
    "We assume a zero-mean and diagonal covariance normal prior"
   ]
  },
  {
   "cell_type": "code",
   "execution_count": null,
   "metadata": {},
   "outputs": [],
   "source": [
    "# Initialization\n",
    "mw, mb = 0., 0.\n",
    "sw, sb = 5., 5.\n",
    "So = np.diag(np.array([sb, sw])**2)\n",
    "mo = np.array([mb, mw])\n",
    "seps = 1. # What happens if this is larger/smaller?"
   ]
  },
  {
   "cell_type": "markdown",
   "metadata": {},
   "source": [
    "The empirical distribution of $\\theta$"
   ]
  },
  {
   "cell_type": "code",
   "execution_count": null,
   "metadata": {},
   "outputs": [],
   "source": [
    "theta_plot = np.random.multivariate_normal(mo, So, size=10000)\n",
    "\n",
    "import corner\n",
    "figure = corner.corner(theta_plot, smooth=1.,\n",
    "                       labels=[\"b\", \"w\"], bins=20, \n",
    "                       quantiles=[0.16, 0.5, 0.84], range=[(-8, 8), (-8, 8)],\n",
    "                       show_titles=True, title_kwargs={\"fontsize\": 12})"
   ]
  },
  {
   "cell_type": "markdown",
   "metadata": {},
   "source": [
    "We observe data at $x=2$, $y=0$ and we update the parameters"
   ]
  },
  {
   "cell_type": "code",
   "execution_count": null,
   "metadata": {},
   "outputs": [],
   "source": [
    "#Update\n",
    "Phi = np.array([[1.0, 2.0]])\n",
    "y = np.array([0.0])\n",
    "Sn = seps**2*np.linalg.inv(np.dot(Phi.T, Phi) +  seps**2*np.linalg.inv(So))\n",
    "mn = np.dot(Sn, np.linalg.solve(So, mo)) + np.dot(Sn, np.dot(Phi.T, y))/seps**2\n",
    "display(Sn, mn)"
   ]
  },
  {
   "cell_type": "markdown",
   "metadata": {},
   "source": [
    "with this the space of possible models is constrained"
   ]
  },
  {
   "cell_type": "code",
   "execution_count": null,
   "metadata": {},
   "outputs": [],
   "source": [
    "fig, ax = plt.subplots(figsize=(7, 3), tight_layout=True)\n",
    "\n",
    "for i in range(100):\n",
    "    linear_layer = torch.nn.Linear(1, 1)\n",
    "    rparam = torch.from_numpy(np.random.multivariate_normal(mn, Sn).astype('float32'))\n",
    "    linear_layer.weight.data = rparam[1].reshape(-1, 1)\n",
    "    linear_layer.bias.data = rparam[0].reshape(-1, 1)\n",
    "    line_y = linear_layer(torch.from_numpy(line_x)).detach().numpy()\n",
    "    ax.plot(line_x, line_y, c='tab:blue', alpha=0.25)\n",
    "\n",
    "ax.errorbar(2, 0, xerr=0, yerr=2*seps, fmt='none', c='k', zorder=100);"
   ]
  },
  {
   "cell_type": "markdown",
   "metadata": {},
   "source": [
    "and the updated empirical distribution is "
   ]
  },
  {
   "cell_type": "code",
   "execution_count": null,
   "metadata": {},
   "outputs": [],
   "source": [
    "theta_plot = np.random.multivariate_normal(mn, Sn, size=10000)\n",
    "\n",
    "figure = corner.corner(theta_plot, smooth=1.,\n",
    "                       labels=[\"b\", \"w\"], bins=20, \n",
    "                       quantiles=[0.16, 0.5, 0.84], range=[(-8, 8), (-8, 8)],\n",
    "                       show_titles=True, title_kwargs={\"fontsize\": 12})"
   ]
  },
  {
   "cell_type": "markdown",
   "metadata": {},
   "source": [
    "Let's assume that we observe a additional data point at $x=-2$, $y=-2$"
   ]
  },
  {
   "cell_type": "code",
   "execution_count": null,
   "metadata": {},
   "outputs": [],
   "source": [
    "# Initialization\n",
    "So = Sn\n",
    "mo = mn\n",
    "#Update\n",
    "Phi = np.array([[1.0, -2.0]])\n",
    "y = np.array([-2.0])\n",
    "Sn = seps**2*np.linalg.inv(np.dot(Phi.T, Phi) +  seps**2*np.linalg.inv(So))\n",
    "mn = np.dot(Sn, np.linalg.solve(So, mo)) + np.dot(Sn, np.dot(Phi.T, y))/seps**2\n",
    "display(Sn, mn)"
   ]
  },
  {
   "cell_type": "markdown",
   "metadata": {},
   "source": [
    "The space of possible models is further reduced"
   ]
  },
  {
   "cell_type": "code",
   "execution_count": null,
   "metadata": {},
   "outputs": [],
   "source": [
    "fig, ax = plt.subplots(figsize=(7, 3), tight_layout=True)\n",
    "\n",
    "for i in range(100):\n",
    "    linear_layer = torch.nn.Linear(1, 1)\n",
    "    rparam = torch.from_numpy(np.random.multivariate_normal(mn, Sn).astype('float32'))\n",
    "    linear_layer.weight.data = rparam[1].reshape(-1, 1)\n",
    "    linear_layer.bias.data = rparam[0].reshape(-1, 1)\n",
    "    line_y = linear_layer(torch.from_numpy(line_x)).detach().numpy()\n",
    "    ax.plot(line_x, line_y, c='tab:blue', alpha=0.2)\n",
    "\n",
    "ax.errorbar(2, 0, xerr=0, yerr=2*seps, fmt='none', c='k', zorder=100);\n",
    "ax.errorbar(-2, -2., xerr=0, yerr=2*seps, fmt='none', c='k', zorder=100);"
   ]
  },
  {
   "cell_type": "markdown",
   "metadata": {},
   "source": [
    "And the empirical distribution is constrained even more"
   ]
  },
  {
   "cell_type": "code",
   "execution_count": null,
   "metadata": {},
   "outputs": [],
   "source": [
    "theta_plot = np.random.multivariate_normal(mn, Sn, size=10000)\n",
    "\n",
    "figure = corner.corner(theta_plot, smooth=1.,\n",
    "                       labels=[\"b\", \"w\"], bins=20, \n",
    "                       quantiles=[0.16, 0.5, 0.84], range=[(-8, 8), (-8, 8)],\n",
    "                       show_titles=True, title_kwargs={\"fontsize\": 12})"
   ]
  },
  {
   "cell_type": "markdown",
   "metadata": {},
   "source": [
    "### Bayesian solution for the predictions\n",
    "\n",
    "Don't forget our goal\n",
    "\n",
    "> We train the model to predict $y$ for new values of $x$\n",
    "\n",
    "In the Bayesian setting we are interested in the **posterior predictive distribution**\n",
    "\n",
    "This is obtained by marginalizing $\\theta$\n",
    "\n",
    "$$\n",
    "\\begin{align}\n",
    "p(y | x, \\mathcal{D}) &= \\int p(y, \\theta | x, \\mathcal{D}) d\\theta \\nonumber \\\\\n",
    "&= \\int p(y| \\theta, x, \\mathcal{D}) p(\\theta| \\mathcal{D}) d\\theta \\nonumber \\\\\n",
    "&= \\int p(y| \\theta, x) p(\\theta| \\mathcal{D}) d\\theta, \\nonumber \n",
    "\\end{align}\n",
    "$$\n",
    "note that $y$ is conditionally independant on $\\mathcal{D}$ given $\\theta$\n",
    "\n",
    "For our linear regression\n",
    "$$\n",
    "\\begin{align}\n",
    "p(y|x, \\mathcal{D}, \\sigma_\\epsilon^2) &= \\int p(y|f_\\theta(x), \\sigma_\\epsilon^2) p(\\theta| \\theta_{N}, \\Sigma_{\\theta_N}) d\\theta \\nonumber \\\\\n",
    "&= \\mathcal{N}\\left(y|f_{\\theta_N} (x), \\sigma_\\epsilon^2 + x^T \\Sigma_{\\theta_N} x\\right)\n",
    "\\end{align}\n",
    "$$\n",
    "\n",
    "**The posterior predictive is Gaussian** (convolution of gaussians is gaussian)\n",
    "\n",
    "If we consider that $N$ samples were presented and that $\\mu_0=0$ then \n",
    "\n",
    "$$\n",
    "\\theta_{N} =  (\\Phi^T \\Phi + \\sigma_\\epsilon^2 \\Sigma_{\\theta_0}^{-1})^{-1} \\Phi^T y\n",
    "$$\n",
    "\n",
    "which is the MAP estimator, and\n",
    "\n",
    "$$\n",
    "\\Sigma_{\\theta_N} = \\sigma_\\epsilon^2 (\\Phi^T \\Phi + \\sigma_\\epsilon^2 \\Sigma_{\\theta_0}^{-1})^{-1}\n",
    "$$\n",
    "\n",
    "\n",
    "Finally, the variance (uncertainty) for the new $x$ is \n",
    "$$\n",
    "\\sigma^2(x) = \\sigma_\\epsilon^2 + x^T \\Sigma_{\\theta_N} x\n",
    "$$\n",
    "\n",
    "> The variance of the prediction has contribution from the noise (irreducible) and the model "
   ]
  },
  {
   "cell_type": "markdown",
   "metadata": {},
   "source": [
    "Uncertainty grows when we depart from the observed data points"
   ]
  },
  {
   "cell_type": "code",
   "execution_count": null,
   "metadata": {},
   "outputs": [],
   "source": [
    "fig, ax = plt.subplots(figsize=(7, 3), tight_layout=True)\n",
    "\n",
    "Phi_x = np.vstack(([1]*100, line_x[:, 0])).T\n",
    "sx = np.sqrt(np.diag(seps**2 + np.dot(np.dot(Phi_x, Sn), Phi_x.T)))\n",
    "ax.plot(line_x, np.dot(Phi_x, mn), '--')\n",
    "ax.fill_between(line_x[:, 0], np.dot(Phi_x, mn)-2*sx, np.dot(Phi_x, mn)+2*sx, alpha=0.5)\n",
    "ax.errorbar(2, 0, xerr=0, yerr=2*seps, fmt='none', c='k', zorder=100);\n",
    "ax.errorbar(-2, -2., xerr=0, yerr=2*seps, fmt='none', c='k');"
   ]
  },
  {
   "cell_type": "markdown",
   "metadata": {},
   "source": [
    "**Activity:**\n",
    "\n",
    "See how the posterior predictive distribution changes with increasing/decreasing $\\sigma_\\epsilon$ and $\\Sigma_{\\theta_0}$"
   ]
  },
  {
   "cell_type": "markdown",
   "metadata": {},
   "source": [
    "# Self-study\n",
    "\n",
    "- [Chapter 18 of D. Barber's book](http://web4.cs.ucl.ac.uk/staff/D.Barber/pmwiki/pmwiki.php?n=Brml.Online)\n",
    "- In all this we assumed $\\sigma_\\epsilon$ known. For a bayesian treatment with unknown noise variance we would use a normal inverse gamma prior"
   ]
  },
  {
   "cell_type": "markdown",
   "metadata": {},
   "source": [
    "## Model Evidence for Bayesian Linear Regression\n",
    "\n",
    "Next iteration"
   ]
  },
  {
   "cell_type": "markdown",
   "metadata": {},
   "source": [
    "# PyTorch tutorial\n",
    "\n",
    "Short pytorch tutorial in spanish:\n",
    "\n",
    "- https://github.com/magister-informatica-uach/INFO267/blob/master/unidad1/3_redes_neuronales.ipynb"
   ]
  },
  {
   "cell_type": "markdown",
   "metadata": {},
   "source": [
    "# Polynomial (linear) regression with Pytorch\n",
    "\n",
    "Let's create synthetic data\n",
    "\n",
    "We will fit this with a polynomial model"
   ]
  },
  {
   "cell_type": "code",
   "execution_count": null,
   "metadata": {},
   "outputs": [],
   "source": [
    "# Synthetic data\n",
    "se = 0.1\n",
    "np.random.seed(0)\n",
    "x = np.linspace(0, 1, num=20) #100x1\n",
    "x_test = np.linspace(-0.05, 1.05, num=200)\n",
    "f = lambda x : x*np.sin(10*x)\n",
    "\n",
    "x = np.delete(x, slice(9, 14))\n",
    "y = f(x) + se*np.random.randn(len(x))\n",
    "fig, ax = plt.subplots(figsize=(7, 3), tight_layout=True)\n",
    "ax.scatter(x, y);\n",
    "\n",
    "x_torch = torch.from_numpy(x.astype('float32')).unsqueeze(1)\n",
    "x_test = torch.from_numpy(x_test.astype('float32')).unsqueeze(1)\n",
    "y_torch = torch.from_numpy(y.astype('float32')).unsqueeze(1)"
   ]
  },
  {
   "cell_type": "markdown",
   "metadata": {},
   "source": [
    "The linear regressor model in PyTorch has one layer and no activation\n",
    "\n",
    "We keep the degree of the pynomial as a free parameter"
   ]
  },
  {
   "cell_type": "code",
   "execution_count": null,
   "metadata": {},
   "outputs": [],
   "source": [
    "class LinearRegressor(torch.nn.Module):\n",
    "    def __init__(self, degree=10):\n",
    "        super(LinearRegressor, self).__init__()\n",
    "        assert degree>0, \"Degree has to be greater than zero\"\n",
    "        assert type(degree)==int, \"Degree has to be an integer\"\n",
    "        self.degree = degree\n",
    "        self.linear = torch.nn.Linear(degree, 1, bias=True)\n",
    "        #torch.nn.init.normal_(self.linear.weight, 0.0, 1e-3)\n",
    "\n",
    "    def forward(self, x):\n",
    "        # polynomial expansion\n",
    "        phi = torch.stack([x[:, 0]**(k+1) for k in range(self.degree)], dim=1)\n",
    "        # linear layer\n",
    "        return self.linear(phi)"
   ]
  },
  {
   "cell_type": "markdown",
   "metadata": {},
   "source": [
    "We train this model using the Mean Square Error loss, i.e.\n",
    "\n",
    "> We assumme a Gaussian likelihood\n",
    "\n",
    "and batch GD with adaptive learning rate and momentum (Adam)\n",
    "\n",
    "With the `weight_decay` parameters of Adam we can add L2 regularization easily\n",
    "\n",
    "> If we add L2 then we are obtaining MAP estimates with Gaussian likelihood and a Gaussian prior \n",
    "\n",
    "**Activity:**\n",
    "\n",
    "1. Change the number of basis and describe the results\n",
    "1. Increase the noise and repeat the previous step\n",
    "1. Modify the `weight_decay` parameter in Adam and repeat the previous steps \n",
    "\n",
    "Concepts: Complexity, generalization, overfitting, regularization"
   ]
  },
  {
   "cell_type": "code",
   "execution_count": null,
   "metadata": {},
   "outputs": [],
   "source": [
    "model = LinearRegressor(degree=10) # Change the degree\n",
    "criterion = torch.nn.MSELoss(reduction='sum')\n",
    "optimizer = torch.optim.Adam(model.parameters(), \n",
    "                             lr=1e-2, \n",
    "                             weight_decay=0.0) # Change the weight decay\n",
    "\n",
    "fig, ax = plt.subplots(1, 2, figsize=(7, 3), tight_layout=True)\n",
    "f = model.forward(x_test).detach().numpy()\n",
    "line1 = ax[0].plot(x_test.detach().numpy(), f, 'k-')\n",
    "line2 = ax[1].plot([], [])\n",
    "ax[0].scatter(x, y)\n",
    "\n",
    "epoch_loss = np.zeros(shape=(10000,))\n",
    "for k in tqdm_notebook(range(len(epoch_loss))):\n",
    "    optimizer.zero_grad()\n",
    "    f = model.forward(x_torch)\n",
    "    loss = criterion(y_torch, f)\n",
    "    loss.backward()\n",
    "    #torch.nn.utils.clip_grad_value_(model.parameters(), 1e+1)\n",
    "    optimizer.step()\n",
    "    epoch_loss[k] = loss.item()\n",
    "    #break    \n",
    "    if k % 100 == 0:\n",
    "        f = model.forward(x_test).detach().numpy()\n",
    "        line1[0].set_ydata(f)\n",
    "        line2[0].set_xdata(range(k))\n",
    "        line2[0].set_ydata(epoch_loss[:k])\n",
    "        for ax_ in ax:\n",
    "            ax_.relim()\n",
    "            ax_.autoscale_view()\n",
    "        fig.canvas.draw()\n"
   ]
  },
  {
   "cell_type": "markdown",
   "metadata": {},
   "source": [
    "TODO: Connect with the idea of basis functions"
   ]
  },
  {
   "attachments": {
    "nn%281%29.svg": {
     "image/svg+xml": [
      "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"
     ]
    }
   },
   "cell_type": "markdown",
   "metadata": {},
   "source": [
    "# Artificial Neural networks\n",
    "\n",
    "[Artificial neural networks](https://docs.google.com/presentation/d/1IJ2n8X4w8pvzNLmpJB-ms6-GDHWthfsJTFuyUqHfXg8/edit?usp=sharing) (ANN) are non-linear parametric function approximators built by connecting **simple units**\n",
    "\n",
    "These units are simplified models of biological neurons: \n",
    "\n",
    "> Linear regressor followed by a non-linear activation function\n",
    "\n",
    "$$\n",
    "y =  g \\left( b + \\sum_{d=1}^D w_{d} x_d  \\right)\n",
    "$$\n",
    "\n",
    "with for example\n",
    "$$\n",
    "g(x) = \\frac{1}{1 + e^{-x}}\n",
    "$$\n",
    "\n",
    "Feed-forward ANN are organized in layers. Each layer has a certain amount of neurons (user-defined)\n",
    "\n",
    "> **Multilayer perceptron (MLP) architecture:** Every unit is connected to all units of its previous and next layers\n",
    "\n",
    "For example a network with four inputs, two outputs and one **hidden layer** with eight neurons:\n",
    "\n",
    "![nn%281%29.svg](attachment:nn%281%29.svg)\n",
    "\n",
    "Mathematically, the output of the hidden layer is\n",
    "$$\n",
    "h_j =  g_1 \\left( b_j + \\sum_{d=1}^{N_x} w_{jd} x_d  \\right), j=1, 2, \\ldots, N_h\n",
    "$$\n",
    "and the output layer\n",
    "$$\n",
    "\\begin{align}\n",
    "f_i &=   g_2 \\left(b_i + \\sum_{j=1}^{N_h} w_{ij} h_j \\right) \\nonumber \\\\\n",
    "&= g_2 \\left(b_i + \\sum_{j=1}^{N_h} w_{ij} g_1 \\left( b_j + \\sum_{d=1}^{N_x} w_{jd} x_d  \\right) \\right), i = 1, \\ldots, N_o \\nonumber\n",
    "\\end{align}\n",
    "$$\n",
    "where $g_1$, $g_2$ can be different\n",
    "\n",
    "The parameters of the network are the weight and biases of the linear regressors"
   ]
  },
  {
   "cell_type": "markdown",
   "metadata": {},
   "source": [
    "## MLP with Gaussian prior\n",
    "\n",
    "The parameter vector $\\theta$ includes the weights and biases of all the neurons\n",
    "\n",
    "Let's consider a Gaussian prior for $\\theta$ and study the space of possible models\n",
    "- How does it compare to the single linear regressor? \n",
    "- What happens when you add more neurons? \n",
    "- What happens if you remove the nonlinearity? \n",
    "- What happens if you change the nonlinearity?\n",
    "- What happens when you add more layers?"
   ]
  },
  {
   "cell_type": "code",
   "execution_count": null,
   "metadata": {},
   "outputs": [],
   "source": [
    "fig, ax = plt.subplots(figsize=(7, 3), tight_layout=True)\n",
    "x_nn = np.linspace(-5, 5, num=1000)[:, None].astype('float32') #100x1\n",
    "\n",
    "class MLP(torch.nn.Module):\n",
    "    def __init__(self, Nh=10, sw=5, sb=5):\n",
    "        super(MLP, self).__init__()\n",
    "        self.hidden1 = torch.nn.Linear(1, Nh)\n",
    "        #self.hidden2 = torch.nn.Linear(Nh, Nh)\n",
    "        #self.hidden3 = torch.nn.Linear(Nh, Nh)\n",
    "\n",
    "        self.output = torch.nn.Linear(Nh, 1)\n",
    "        #for layer in [self.hidden1, self.hidden2, self.hidden3, self.output]:\n",
    "        for layer in [self.hidden1, self.output]:\n",
    "            torch.nn.init.normal_(layer.weight, 0.0, sw)\n",
    "            torch.nn.init.normal_(layer.bias, 0.0, sb)\n",
    "        self.activation = torch.nn.Sigmoid()\n",
    "\n",
    "    def forward(self, x):\n",
    "        z = self.activation(self.hidden1(x))\n",
    "        #z = self.activation(self.hidden2(z))\n",
    "        #z = self.activation(self.hidden3(z))\n",
    "        return self.output(z)\n",
    "    \n",
    "for i in range(10):\n",
    "    model = MLP(Nh=1000)\n",
    "    y_nn = model.forward(torch.from_numpy(x_nn)).detach().numpy()\n",
    "    ax.plot(x_nn, y_nn, c='tab:blue', alpha=0.5)"
   ]
  },
  {
   "cell_type": "markdown",
   "metadata": {},
   "source": [
    "## Probabilistic interpretation of ANN\n",
    "\n",
    "Let's consider a simple MLP architecture for regression\n",
    "- one hidden layer with $H$ neurons\n",
    "- input dimensionality $D$ and output dimensionality $K$\n",
    "- $g(\\cdot)$ a nonlinear activation function (sigmoid, tanh, ReLU, etc)\n",
    "\n",
    "$$\n",
    "\\begin{align}\n",
    "f_i &=   b_i + \\sum_{j=1}^H w_{ij} h_j  \\nonumber \\\\\n",
    "&=  b_i + \\sum_{j=1}^H w_{ij} g \\left( b_j + \\sum_{d=1}^D w_{jd} x_d  \\right) \\nonumber\n",
    "\\end{align}\n",
    "$$\n",
    "\n",
    "The vector parameter $\\vec \\theta$ contains the weight and biases of both layers\n",
    "\n",
    "We fit the parameters by minimizing the **Mean Square Error** cost function \n",
    "\n",
    "$$\n",
    "\\min_\\theta \\sum_n  \\sum_i \\left(y_{i}^{(n)} - f_i(x^{(n)}) \\right)^2\n",
    "$$\n",
    "\n",
    "> This is equivalent to the **MLE solution with Gaussian likelihood** (known spherical covariance)\n",
    "\n",
    "Typically an L2 regularizer is included to penalize complexity and improve generalization\n",
    "\n",
    "$$\n",
    "\\min_\\theta \\sum_n  \\sum_i  \\left(y_{i}^{(n)} - f_i(x^{(n)}) \\right)^2 + \\lambda \\sum_k \\theta_k^2\n",
    "$$\n",
    "\n",
    "> This is equivalent to the **MAP solution with Gaussian likelihood and Gaussian prior** (zero-mean)\n",
    "\n",
    "In both cases there is no closed-form solution and we optimize with iterative methods: **gradient descent**"
   ]
  },
  {
   "cell_type": "markdown",
   "metadata": {},
   "source": [
    "## Long story short\n",
    "\n",
    "> Conventional neural network training obtains MLE/MAP point estimates\n",
    "\n",
    "For classification we arrive to the same conclusion except that \n",
    "- sigmoid or softmax activation is used in the output layer\n",
    "- cross-entropy cost function is used instead of MSE: **Bernoulli/Categorical likelihood**"
   ]
  },
  {
   "cell_type": "markdown",
   "metadata": {},
   "source": [
    "## Non-linear regressor using MLP\n",
    "\n",
    "Let's go back to the polynomial regression problem"
   ]
  },
  {
   "cell_type": "code",
   "execution_count": null,
   "metadata": {},
   "outputs": [],
   "source": [
    "# Synthetic data\n",
    "fig, ax = plt.subplots(figsize=(7, 3), tight_layout=True)\n",
    "ax.scatter(x, y);"
   ]
  },
  {
   "cell_type": "markdown",
   "metadata": {},
   "source": [
    "This time we use a Multi-Layer Perceptron (MLP) neural network\n",
    "\n",
    "We use a non-linear hyperbolic tangent activation function as hidden activation"
   ]
  },
  {
   "cell_type": "code",
   "execution_count": null,
   "metadata": {},
   "outputs": [],
   "source": [
    "class MLP(torch.nn.Module):\n",
    "    def __init__(self, n_hidden=10):\n",
    "        super(MLP, self).__init__()\n",
    "        self.hidden1 = torch.nn.Linear(1, n_hidden, bias=True)\n",
    "        #self.hidden2 = torch.nn.Linear(n_hidden, n_hidden, bias=True)\n",
    "        self.output = torch.nn.Linear(n_hidden, 1, bias=True)\n",
    "        self.activation = torch.nn.Tanh()\n",
    "        \n",
    "    def forward(self, x):\n",
    "        z = self.activation(self.hidden1(x))\n",
    "        #return self.output(self.activation(self.hidden2(z)))\n",
    "        return self.output(z)"
   ]
  },
  {
   "cell_type": "markdown",
   "metadata": {},
   "source": [
    "How many hyperbolic tangent basis do we need to fit this data?"
   ]
  },
  {
   "cell_type": "code",
   "execution_count": null,
   "metadata": {
    "scrolled": false
   },
   "outputs": [],
   "source": [
    "model = MLP(n_hidden=10) # Change the number of hidden neurons\n",
    "\n",
    "criterion = torch.nn.MSELoss(reduction='sum')\n",
    "optimizer = torch.optim.Adam(model.parameters(), \n",
    "                             lr=1e-2, \n",
    "                             weight_decay=0.0) # Change the weight decay\n",
    "\n",
    "fig, ax = plt.subplots(1, 2, figsize=(7, 3), tight_layout=True, dpi=120)\n",
    "f = model.forward(x_test).detach().numpy()\n",
    "line1 = ax[0].plot(x_test.detach().numpy(), f, 'k-')\n",
    "line2 = ax[1].plot([], [])\n",
    "ax[0].scatter(x, y)\n",
    "\n",
    "epoch_loss = np.zeros(shape=(5000,))\n",
    "for k in tqdm_notebook(range(len(epoch_loss))):\n",
    "    optimizer.zero_grad()\n",
    "    f = model.forward(x_torch)\n",
    "    loss = criterion(y_torch, f)\n",
    "    loss.backward()\n",
    "    optimizer.step()\n",
    "    epoch_loss[k] = loss.item()\n",
    "    #break    \n",
    "    if k % 100 == 0:\n",
    "        f = model.forward(x_test).detach().numpy()\n",
    "        line1[0].set_ydata(f)\n",
    "        line2[0].set_xdata(range(k))\n",
    "        line2[0].set_ydata(epoch_loss[:k])\n",
    "        for ax_ in ax:\n",
    "            ax_.relim()\n",
    "            ax_.autoscale_view()\n",
    "        fig.canvas.draw()"
   ]
  },
  {
   "attachments": {
    "nn%282%29.svg": {
     "image/svg+xml": [
      "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"
     ]
    }
   },
   "cell_type": "markdown",
   "metadata": {},
   "source": [
    "# Deep Learning\n",
    "\n",
    "> More complex and flexible models are obtained by increasing the number of hidden layers (depth) and the number of neurons (width) \n",
    "\n",
    "![nn%282%29.svg](attachment:nn%282%29.svg)\n",
    "\n",
    "But \n",
    "\n",
    "> The more number of parameters, the more difficult to train: Overfitting, vanishing gradients, ...\n",
    "\n",
    "With \n",
    "- Data availability on the rise \n",
    "- Faster hardware: GPUs (CUDA, tensor-cores)\n",
    "- Regularization: penalty on parameters, data augmentation, dropout, ...\n",
    "- Clever architectures and activations: Convolutional Neural Networks, Long-short term memories, ReLU, ...\n",
    "\n",
    "\n",
    "> We are able to train **very deep neural network models** that have become the current state of the art in [pattern recognition problems](https://rodrigob.github.io/are_we_there_yet/build/classification_datasets_results.html#43494641522d3130)\n",
    "\n",
    "\n",
    "**Extra:** Short tutorial on [Convolutional Neural Networks](https://github.com/magister-informatica-uach/INFO267/blob/master/unidad1/4_red_convolucional.ipynb)"
   ]
  },
  {
   "cell_type": "markdown",
   "metadata": {},
   "source": [
    "#### Why are deep models needed?\n",
    "\n",
    "The MLP with one hidden layer (shallow network) is a [universal approximator](http://cognitivemedium.com/magic_paper/assets/Hornik.pdf)\n",
    "\n",
    "> (In theory) we could obtain a shallow network that is *as flexible* as a deep network\n",
    "\n",
    "\n",
    "> (But) it may require an extremely large number of hidden-layer neurons (infinite)\n",
    "\n",
    "In practice you need **flexible** but also **compact** models"
   ]
  },
  {
   "cell_type": "markdown",
   "metadata": {},
   "source": [
    "## Next class\n",
    "\n",
    "- Approximate Inference\n",
    "- Our first Bayesian Neural network"
   ]
  },
  {
   "cell_type": "code",
   "execution_count": null,
   "metadata": {},
   "outputs": [],
   "source": []
  }
 ],
 "metadata": {
  "kernelspec": {
   "display_name": "Python 3",
   "language": "python",
   "name": "python3"
  },
  "language_info": {
   "codemirror_mode": {
    "name": "ipython",
    "version": 3
   },
   "file_extension": ".py",
   "mimetype": "text/x-python",
   "name": "python",
   "nbconvert_exporter": "python",
   "pygments_lexer": "ipython3",
   "version": "3.7.3"
  }
 },
 "nbformat": 4,
 "nbformat_minor": 2
}
